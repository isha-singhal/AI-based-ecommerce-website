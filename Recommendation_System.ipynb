{
 "cells": [
  {
   "cell_type": "markdown",
   "id": "9bc45e22-90b5-4f1b-90d3-fc3bb2015aac",
   "metadata": {},
   "source": [
    "Recommendation System for an e-commerce website"
   ]
  },
  {
   "cell_type": "markdown",
   "id": "f52ed4ba-c80c-41eb-9e88-ef2d2e5dac22",
   "metadata": {},
   "source": [
    "Dataset used: https://www.kaggle.com/skillsmuggler/amazon-ratings"
   ]
  },
  {
   "cell_type": "code",
   "execution_count": 1,
   "id": "6090a21b-2b7a-4dae-b3fc-05997595a3f5",
   "metadata": {},
   "outputs": [],
   "source": [
    "#Loading necessary libraries\n",
    "import pandas as pd\n",
    "import numpy as np\n",
    "import matplotlib.pyplot as plt\n",
    "import seaborn as sns\n",
    "plt.style.use(\"ggplot\")\n",
    "import warnings\n",
    "\n",
    "warnings.filterwarnings('ignore')\n",
    "%matplotlib inline"
   ]
  },
  {
   "cell_type": "code",
   "execution_count": 2,
   "id": "eeb67839-4c3b-4a8d-afd9-602816cf9d03",
   "metadata": {},
   "outputs": [],
   "source": [
    "#Reading dataset and renaming columns\n",
    "columns = ['userID', 'productID', 'ratings','timestamp']\n",
    "amazon_ratings = pd.read_csv('C:/Users/HP/Desktop/ratings_Beauty.csv',names=columns)"
   ]
  },
  {
   "cell_type": "code",
   "execution_count": 3,
   "id": "7937b1a8-40ec-4666-8b20-6927c376c462",
   "metadata": {},
   "outputs": [
    {
     "name": "stdout",
     "output_type": "stream",
     "text": [
      "<class 'pandas.core.frame.DataFrame'>\n",
      "RangeIndex: 2023071 entries, 0 to 2023070\n",
      "Data columns (total 4 columns):\n",
      " #   Column     Dtype \n",
      "---  ------     ----- \n",
      " 0   userID     object\n",
      " 1   productID  object\n",
      " 2   ratings    object\n",
      " 3   timestamp  object\n",
      "dtypes: object(4)\n",
      "memory usage: 61.7+ MB\n"
     ]
    }
   ],
   "source": [
    "amazon_ratings.info()"
   ]
  },
  {
   "cell_type": "code",
   "execution_count": 4,
   "id": "99d37bf1-7741-4b18-adaa-14c5c404c932",
   "metadata": {},
   "outputs": [
    {
     "data": {
      "text/html": [
       "<div>\n",
       "<style scoped>\n",
       "    .dataframe tbody tr th:only-of-type {\n",
       "        vertical-align: middle;\n",
       "    }\n",
       "\n",
       "    .dataframe tbody tr th {\n",
       "        vertical-align: top;\n",
       "    }\n",
       "\n",
       "    .dataframe thead th {\n",
       "        text-align: right;\n",
       "    }\n",
       "</style>\n",
       "<table border=\"1\" class=\"dataframe\">\n",
       "  <thead>\n",
       "    <tr style=\"text-align: right;\">\n",
       "      <th></th>\n",
       "      <th>userID</th>\n",
       "      <th>productID</th>\n",
       "      <th>ratings</th>\n",
       "      <th>timestamp</th>\n",
       "    </tr>\n",
       "  </thead>\n",
       "  <tbody>\n",
       "    <tr>\n",
       "      <th>0</th>\n",
       "      <td>UserId</td>\n",
       "      <td>ProductId</td>\n",
       "      <td>Rating</td>\n",
       "      <td>Timestamp</td>\n",
       "    </tr>\n",
       "    <tr>\n",
       "      <th>1</th>\n",
       "      <td>A39HTATAQ9V7YF</td>\n",
       "      <td>0205616461</td>\n",
       "      <td>5.0</td>\n",
       "      <td>1369699200</td>\n",
       "    </tr>\n",
       "    <tr>\n",
       "      <th>2</th>\n",
       "      <td>A3JM6GV9MNOF9X</td>\n",
       "      <td>0558925278</td>\n",
       "      <td>3.0</td>\n",
       "      <td>1355443200</td>\n",
       "    </tr>\n",
       "    <tr>\n",
       "      <th>3</th>\n",
       "      <td>A1Z513UWSAAO0F</td>\n",
       "      <td>0558925278</td>\n",
       "      <td>5.0</td>\n",
       "      <td>1404691200</td>\n",
       "    </tr>\n",
       "    <tr>\n",
       "      <th>4</th>\n",
       "      <td>A1WMRR494NWEWV</td>\n",
       "      <td>0733001998</td>\n",
       "      <td>4.0</td>\n",
       "      <td>1382572800</td>\n",
       "    </tr>\n",
       "  </tbody>\n",
       "</table>\n",
       "</div>"
      ],
      "text/plain": [
       "           userID   productID ratings   timestamp\n",
       "0          UserId   ProductId  Rating   Timestamp\n",
       "1  A39HTATAQ9V7YF  0205616461     5.0  1369699200\n",
       "2  A3JM6GV9MNOF9X  0558925278     3.0  1355443200\n",
       "3  A1Z513UWSAAO0F  0558925278     5.0  1404691200\n",
       "4  A1WMRR494NWEWV  0733001998     4.0  1382572800"
      ]
     },
     "execution_count": 4,
     "metadata": {},
     "output_type": "execute_result"
    }
   ],
   "source": [
    "amazon_ratings.head()"
   ]
  },
  {
   "cell_type": "code",
   "execution_count": 5,
   "id": "607e7bb9-df43-43df-becf-dff05dc1e5c7",
   "metadata": {},
   "outputs": [
    {
     "data": {
      "text/plain": [
       "(2023071, 4)"
      ]
     },
     "execution_count": 5,
     "metadata": {},
     "output_type": "execute_result"
    }
   ],
   "source": [
    "amazon_ratings.shape"
   ]
  },
  {
   "cell_type": "code",
   "execution_count": 6,
   "id": "b40459cf-f129-49bd-9632-f43776799174",
   "metadata": {},
   "outputs": [
    {
     "data": {
      "text/html": [
       "<div>\n",
       "<style scoped>\n",
       "    .dataframe tbody tr th:only-of-type {\n",
       "        vertical-align: middle;\n",
       "    }\n",
       "\n",
       "    .dataframe tbody tr th {\n",
       "        vertical-align: top;\n",
       "    }\n",
       "\n",
       "    .dataframe thead th {\n",
       "        text-align: right;\n",
       "    }\n",
       "</style>\n",
       "<table border=\"1\" class=\"dataframe\">\n",
       "  <thead>\n",
       "    <tr style=\"text-align: right;\">\n",
       "      <th></th>\n",
       "      <th>count</th>\n",
       "      <th>unique</th>\n",
       "      <th>top</th>\n",
       "      <th>freq</th>\n",
       "    </tr>\n",
       "  </thead>\n",
       "  <tbody>\n",
       "    <tr>\n",
       "      <th>userID</th>\n",
       "      <td>2023071</td>\n",
       "      <td>1210272</td>\n",
       "      <td>A3KEZLJ59C1JVH</td>\n",
       "      <td>389</td>\n",
       "    </tr>\n",
       "    <tr>\n",
       "      <th>productID</th>\n",
       "      <td>2023071</td>\n",
       "      <td>249275</td>\n",
       "      <td>B001MA0QY2</td>\n",
       "      <td>7533</td>\n",
       "    </tr>\n",
       "    <tr>\n",
       "      <th>ratings</th>\n",
       "      <td>2023071.0</td>\n",
       "      <td>11.0</td>\n",
       "      <td>5.0</td>\n",
       "      <td>1165521.0</td>\n",
       "    </tr>\n",
       "    <tr>\n",
       "      <th>timestamp</th>\n",
       "      <td>2023071</td>\n",
       "      <td>7848</td>\n",
       "      <td>1380672000</td>\n",
       "      <td>5499</td>\n",
       "    </tr>\n",
       "  </tbody>\n",
       "</table>\n",
       "</div>"
      ],
      "text/plain": [
       "               count   unique             top       freq\n",
       "userID       2023071  1210272  A3KEZLJ59C1JVH        389\n",
       "productID    2023071   249275      B001MA0QY2       7533\n",
       "ratings    2023071.0     11.0             5.0  1165521.0\n",
       "timestamp    2023071     7848      1380672000       5499"
      ]
     },
     "execution_count": 6,
     "metadata": {},
     "output_type": "execute_result"
    }
   ],
   "source": [
    "amazon_ratings.describe().T"
   ]
  },
  {
   "cell_type": "code",
   "execution_count": 7,
   "id": "dd3de7a1-3ea9-4aa3-8f0a-19f32e411960",
   "metadata": {},
   "outputs": [],
   "source": [
    "#Dropping the \"timestamp\" as it is not a needed field in this case\n",
    "amazon_ratings = amazon_ratings.drop('timestamp', axis=1)"
   ]
  },
  {
   "cell_type": "code",
   "execution_count": 8,
   "id": "e0137d3e-c6bf-4e26-a079-75cc7373450a",
   "metadata": {},
   "outputs": [
    {
     "data": {
      "text/plain": [
       "userID       0\n",
       "productID    0\n",
       "ratings      0\n",
       "dtype: int64"
      ]
     },
     "execution_count": 8,
     "metadata": {},
     "output_type": "execute_result"
    }
   ],
   "source": [
    "#Returns the number of missing values in each column\n",
    "amazon_ratings.isna().sum()"
   ]
  },
  {
   "cell_type": "code",
   "execution_count": 9,
   "id": "315a4bec-fffa-4496-b190-984594a22c16",
   "metadata": {},
   "outputs": [
    {
     "data": {
      "text/html": [
       "<div>\n",
       "<style scoped>\n",
       "    .dataframe tbody tr th:only-of-type {\n",
       "        vertical-align: middle;\n",
       "    }\n",
       "\n",
       "    .dataframe tbody tr th {\n",
       "        vertical-align: top;\n",
       "    }\n",
       "\n",
       "    .dataframe thead th {\n",
       "        text-align: right;\n",
       "    }\n",
       "</style>\n",
       "<table border=\"1\" class=\"dataframe\">\n",
       "  <thead>\n",
       "    <tr style=\"text-align: right;\">\n",
       "      <th></th>\n",
       "      <th>ratings</th>\n",
       "    </tr>\n",
       "    <tr>\n",
       "      <th>productID</th>\n",
       "      <th></th>\n",
       "    </tr>\n",
       "  </thead>\n",
       "  <tbody>\n",
       "    <tr>\n",
       "      <th>B001MA0QY2</th>\n",
       "      <td>7533</td>\n",
       "    </tr>\n",
       "    <tr>\n",
       "      <th>B0009V1YR8</th>\n",
       "      <td>2869</td>\n",
       "    </tr>\n",
       "    <tr>\n",
       "      <th>B0043OYFKU</th>\n",
       "      <td>2477</td>\n",
       "    </tr>\n",
       "    <tr>\n",
       "      <th>B0000YUXI0</th>\n",
       "      <td>2143</td>\n",
       "    </tr>\n",
       "    <tr>\n",
       "      <th>B003V265QW</th>\n",
       "      <td>2088</td>\n",
       "    </tr>\n",
       "    <tr>\n",
       "      <th>B000ZMBSPE</th>\n",
       "      <td>2041</td>\n",
       "    </tr>\n",
       "    <tr>\n",
       "      <th>B003BQ6QXK</th>\n",
       "      <td>1918</td>\n",
       "    </tr>\n",
       "    <tr>\n",
       "      <th>B004OHQR1Q</th>\n",
       "      <td>1885</td>\n",
       "    </tr>\n",
       "    <tr>\n",
       "      <th>B00121UVU0</th>\n",
       "      <td>1838</td>\n",
       "    </tr>\n",
       "    <tr>\n",
       "      <th>B000FS05VG</th>\n",
       "      <td>1589</td>\n",
       "    </tr>\n",
       "  </tbody>\n",
       "</table>\n",
       "</div>"
      ],
      "text/plain": [
       "            ratings\n",
       "productID          \n",
       "B001MA0QY2     7533\n",
       "B0009V1YR8     2869\n",
       "B0043OYFKU     2477\n",
       "B0000YUXI0     2143\n",
       "B003V265QW     2088\n",
       "B000ZMBSPE     2041\n",
       "B003BQ6QXK     1918\n",
       "B004OHQR1Q     1885\n",
       "B00121UVU0     1838\n",
       "B000FS05VG     1589"
      ]
     },
     "execution_count": 9,
     "metadata": {},
     "output_type": "execute_result"
    }
   ],
   "source": [
    "#For histogram based on most no. of ratings\n",
    "popular_products = pd.DataFrame(amazon_ratings.groupby('productID')['ratings'].count())\n",
    "most_popular = popular_products.sort_values('ratings', ascending=False)\n",
    "most_popular.head(10)"
   ]
  },
  {
   "cell_type": "code",
   "execution_count": 10,
   "id": "0aca29a5-d4c5-4f22-bd14-4b90bde8ce37",
   "metadata": {},
   "outputs": [
    {
     "data": {
      "text/plain": [
       "<AxesSubplot:xlabel='productID'>"
      ]
     },
     "execution_count": 10,
     "metadata": {},
     "output_type": "execute_result"
    },
    {
     "data": {
      "image/png": "[encoded data removed]",
      "text/plain": [
       "<Figure size 432x288 with 1 Axes>"
      ]
     },
     "metadata": {
      "needs_background": "light"
     },
     "output_type": "display_data"
    }
   ],
   "source": [
    "#Most popular products based on their ratings\n",
    "most_popular.head(30).plot(kind = \"bar\")"
   ]
  },
  {
   "cell_type": "code",
   "execution_count": 12,
   "id": "d0d7f138-7203-4f48-ad98-a9d3cca07644",
   "metadata": {},
   "outputs": [
    {
     "data": {
      "text/plain": [
       "A3KEZLJ59C1JVH    389\n",
       "A281NPSIMI1C2R    336\n",
       "A3M174IC0VXOS2    326\n",
       "A2V5R832QCSOMX    278\n",
       "A3LJLRIZL38GG3    276\n",
       "                 ... \n",
       "A3B7ROUPU3OA1Q      1\n",
       "A28OZWVQKJ0DO4      1\n",
       "A252U39SQKJ1US      1\n",
       "AMNHME7GD7RUB       1\n",
       "A2FM2VU7UV2HXE      1\n",
       "Name: userID, Length: 1210272, dtype: int64"
      ]
     },
     "execution_count": 12,
     "metadata": {},
     "output_type": "execute_result"
    }
   ],
   "source": [
    "# find unique users\n",
    "amazon_ratings.userID.value_counts()"
   ]
  },
  {
   "cell_type": "code",
   "execution_count": 13,
   "id": "ef7bcfff-47ef-4149-8912-0d5ab3d005fe",
   "metadata": {},
   "outputs": [
    {
     "name": "stdout",
     "output_type": "stream",
     "text": [
      "Number of unique users 1210272\n"
     ]
    }
   ],
   "source": [
    "print('Number of unique users', len(amazon_ratings['userID'].unique()))"
   ]
  },
  {
   "cell_type": "code",
   "execution_count": 14,
   "id": "b2bb95b0-ba07-4daf-94d9-404b6173b4bc",
   "metadata": {},
   "outputs": [
    {
     "name": "stdout",
     "output_type": "stream",
     "text": [
      "Number of unique products 249275\n"
     ]
    }
   ],
   "source": [
    "print('Number of unique products', len(amazon_ratings['productID'].unique()))"
   ]
  },
  {
   "cell_type": "code",
   "execution_count": 17,
   "id": "065903f9-0b08-4863-a24b-0a3e64da3304",
   "metadata": {},
   "outputs": [
    {
     "name": "stdout",
     "output_type": "stream",
     "text": [
      "Unique Ratings ['Rating' '5.0' '3.0' '4.0' '1.0' '2.0' 5.0 4.0 1.0 2.0 3.0]\n"
     ]
    }
   ],
   "source": [
    "print('Unique Ratings', amazon_ratings['ratings'].unique())"
   ]
  },
  {
   "cell_type": "code",
   "execution_count": 18,
   "id": "3da7ccfc-10d9-4f06-ab0c-3def2f8e9fd0",
   "metadata": {},
   "outputs": [
    {
     "data": {
      "text/html": [
       "<div>\n",
       "<style scoped>\n",
       "    .dataframe tbody tr th:only-of-type {\n",
       "        vertical-align: middle;\n",
       "    }\n",
       "\n",
       "    .dataframe tbody tr th {\n",
       "        vertical-align: top;\n",
       "    }\n",
       "\n",
       "    .dataframe thead th {\n",
       "        text-align: right;\n",
       "    }\n",
       "</style>\n",
       "<table border=\"1\" class=\"dataframe\">\n",
       "  <thead>\n",
       "    <tr style=\"text-align: right;\">\n",
       "      <th></th>\n",
       "      <th>userID</th>\n",
       "      <th>productID</th>\n",
       "      <th>ratings</th>\n",
       "    </tr>\n",
       "  </thead>\n",
       "  <tbody>\n",
       "    <tr>\n",
       "      <th>6</th>\n",
       "      <td>AKJHHD5VEH7VG</td>\n",
       "      <td>0762451459</td>\n",
       "      <td>5.0</td>\n",
       "    </tr>\n",
       "    <tr>\n",
       "      <th>43</th>\n",
       "      <td>A22ZFXQE8AWPEP</td>\n",
       "      <td>1304482596</td>\n",
       "      <td>1.0</td>\n",
       "    </tr>\n",
       "    <tr>\n",
       "      <th>48</th>\n",
       "      <td>A22ZFXQE8AWPEP</td>\n",
       "      <td>1304482685</td>\n",
       "      <td>1.0</td>\n",
       "    </tr>\n",
       "    <tr>\n",
       "      <th>53</th>\n",
       "      <td>A22ZFXQE8AWPEP</td>\n",
       "      <td>1304495396</td>\n",
       "      <td>1.0</td>\n",
       "    </tr>\n",
       "    <tr>\n",
       "      <th>62</th>\n",
       "      <td>A22ZFXQE8AWPEP</td>\n",
       "      <td>1304511111</td>\n",
       "      <td>1.0</td>\n",
       "    </tr>\n",
       "  </tbody>\n",
       "</table>\n",
       "</div>"
      ],
      "text/plain": [
       "            userID   productID ratings\n",
       "6    AKJHHD5VEH7VG  0762451459     5.0\n",
       "43  A22ZFXQE8AWPEP  1304482596     1.0\n",
       "48  A22ZFXQE8AWPEP  1304482685     1.0\n",
       "53  A22ZFXQE8AWPEP  1304495396     1.0\n",
       "62  A22ZFXQE8AWPEP  1304511111     1.0"
      ]
     },
     "execution_count": 18,
     "metadata": {},
     "output_type": "execute_result"
    }
   ],
   "source": [
    "#Keep the users only who has given 50 or more number of ratings\n",
    "userID = amazon_ratings.groupby('userID').count()\n",
    "top_user = userID[userID['ratings'] >= 50].index\n",
    "topuser_ratings_df = amazon_ratings[amazon_ratings['userID'].isin(top_user)]\n",
    "topuser_ratings_df.head()"
   ]
  },
  {
   "cell_type": "code",
   "execution_count": 19,
   "id": "4cb38103-5f53-4e64-a8e9-32173000798a",
   "metadata": {},
   "outputs": [],
   "source": [
    "#Keep data only for products that have 50 or more ratings\n",
    "prodID = amazon_ratings.groupby('productID').count()\n",
    "top_prod = prodID[prodID['ratings'] >= 50].index\n",
    "top_ratings_df = topuser_ratings_df[topuser_ratings_df['productID'].isin(top_prod)]"
   ]
  },
  {
   "cell_type": "code",
   "execution_count": 20,
   "id": "0bc637df-77b0-4aa5-8791-4a05ecfcedcd",
   "metadata": {},
   "outputs": [],
   "source": [
    "top_ratings_df = topuser_ratings_df[topuser_ratings_df['productID'].isin(top_prod)]"
   ]
  },
  {
   "cell_type": "code",
   "execution_count": 21,
   "id": "36007e91-4dcf-43ce-9b01-55043e931a24",
   "metadata": {},
   "outputs": [
    {
     "data": {
      "text/html": [
       "<div>\n",
       "<style scoped>\n",
       "    .dataframe tbody tr th:only-of-type {\n",
       "        vertical-align: middle;\n",
       "    }\n",
       "\n",
       "    .dataframe tbody tr th {\n",
       "        vertical-align: top;\n",
       "    }\n",
       "\n",
       "    .dataframe thead th {\n",
       "        text-align: right;\n",
       "    }\n",
       "</style>\n",
       "<table border=\"1\" class=\"dataframe\">\n",
       "  <thead>\n",
       "    <tr style=\"text-align: right;\">\n",
       "      <th></th>\n",
       "      <th>userID</th>\n",
       "      <th>productID</th>\n",
       "      <th>ratings</th>\n",
       "    </tr>\n",
       "  </thead>\n",
       "  <tbody>\n",
       "    <tr>\n",
       "      <th>1718</th>\n",
       "      <td>A2FQZKL2KIZACO</td>\n",
       "      <td>9790790961</td>\n",
       "      <td>5.0</td>\n",
       "    </tr>\n",
       "    <tr>\n",
       "      <th>1746</th>\n",
       "      <td>A3TYR1ALBZ2EU9</td>\n",
       "      <td>9790790961</td>\n",
       "      <td>5.0</td>\n",
       "    </tr>\n",
       "    <tr>\n",
       "      <th>2493</th>\n",
       "      <td>A2VOGNBUMXSW13</td>\n",
       "      <td>B00004TMFE</td>\n",
       "      <td>2.0</td>\n",
       "    </tr>\n",
       "    <tr>\n",
       "      <th>3336</th>\n",
       "      <td>A3AZI828WJN1CD</td>\n",
       "      <td>B00004U9UY</td>\n",
       "      <td>4.0</td>\n",
       "    </tr>\n",
       "    <tr>\n",
       "      <th>3413</th>\n",
       "      <td>A287547UH1VBJ7</td>\n",
       "      <td>B00004U9UY</td>\n",
       "      <td>4.0</td>\n",
       "    </tr>\n",
       "  </tbody>\n",
       "</table>\n",
       "</div>"
      ],
      "text/plain": [
       "              userID   productID ratings\n",
       "1718  A2FQZKL2KIZACO  9790790961     5.0\n",
       "1746  A3TYR1ALBZ2EU9  9790790961     5.0\n",
       "2493  A2VOGNBUMXSW13  B00004TMFE     2.0\n",
       "3336  A3AZI828WJN1CD  B00004U9UY     4.0\n",
       "3413  A287547UH1VBJ7  B00004U9UY     4.0"
      ]
     },
     "execution_count": 21,
     "metadata": {},
     "output_type": "execute_result"
    }
   ],
   "source": [
    "top_ratings_df.head()"
   ]
  }
 ],
 "metadata": {
  "kernelspec": {
   "display_name": "Python 3 (ipykernel)",
   "language": "python",
   "name": "python3"
  },
  "language_info": {
   "codemirror_mode": {
    "name": "ipython",
    "version": 3
   },
   "file_extension": ".py",
   "mimetype": "text/x-python",
   "name": "python",
   "nbconvert_exporter": "python",
   "pygments_lexer": "ipython3",
   "version": "3.9.6"
  }
 },
 "nbformat": 4,
 "nbformat_minor": 5
}
